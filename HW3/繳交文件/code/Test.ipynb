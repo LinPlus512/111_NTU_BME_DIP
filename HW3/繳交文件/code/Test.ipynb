{
 "cells": [
  {
   "cell_type": "code",
   "execution_count": 3,
   "metadata": {},
   "outputs": [],
   "source": [
    "import numpy as np\n",
    "from scipy import signal\n",
    "from scipy import misc"
   ]
  },
  {
   "cell_type": "code",
   "execution_count": null,
   "metadata": {},
   "outputs": [],
   "source": []
  },
  {
   "cell_type": "code",
   "execution_count": 9,
   "metadata": {},
   "outputs": [
    {
     "name": "stdout",
     "output_type": "stream",
     "text": [
      "[[ 1  2  0 -2 -1]]\n"
     ]
    }
   ],
   "source": [
    "# ascent = misc.ascent()\n",
    "# print(ascent)\n",
    "# sob3x3 = np.convolve([1, 2, 1], [1, 0, -1], )\n",
    "x = np.array([[1, 2, 1]])\n",
    "y = np.array([[1, 0, -1]])\n",
    "sob3x3 = signal.convolve2d(x, y, boundary='fill', fillvalue=0)\n",
    "print(sob3x3)"
   ]
  },
  {
   "cell_type": "code",
   "execution_count": null,
   "metadata": {},
   "outputs": [],
   "source": []
  }
 ],
 "metadata": {
  "kernelspec": {
   "display_name": "Python 3.10.6 ('venv_DIP': venv)",
   "language": "python",
   "name": "python3"
  },
  "language_info": {
   "codemirror_mode": {
    "name": "ipython",
    "version": 3
   },
   "file_extension": ".py",
   "mimetype": "text/x-python",
   "name": "python",
   "nbconvert_exporter": "python",
   "pygments_lexer": "ipython3",
   "version": "3.10.6"
  },
  "orig_nbformat": 4,
  "vscode": {
   "interpreter": {
    "hash": "34b27e7dc87fc4eb92b7d8a929c6524d3972f1466da4f2ba4710361107dd47f0"
   }
  }
 },
 "nbformat": 4,
 "nbformat_minor": 2
}
